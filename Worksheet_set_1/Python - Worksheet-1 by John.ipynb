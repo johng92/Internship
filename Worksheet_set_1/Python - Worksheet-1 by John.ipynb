{
 "cells": [
  {
   "cell_type": "code",
   "execution_count": 10,
   "id": "061bc4f7",
   "metadata": {},
   "outputs": [
    {
     "name": "stdout",
     "output_type": "stream",
     "text": [
      "Enter a number: 4\n",
      "The factorial of  4 is 24\n"
     ]
    }
   ],
   "source": [
    "#1 Python program to find the factorial of a number.\n",
    "num = int (input(\"Enter a number: \"))\n",
    "\n",
    "factorial = 1\n",
    "\n",
    "#to check whether a number is negative , positive or zero\n",
    "if num < 0:\n",
    "    print (\"Sorry ,factorial does not exist for negative numbers\")\n",
    "elif num == 0:\n",
    "    print (\"The factorial of 0 is 1\")\n",
    "else:\n",
    "    for i in range(1, num + 1):\n",
    "        factorial = factorial * i\n",
    "    print (\"The factorial of \", num,\"is\", factorial)"
   ]
  },
  {
   "cell_type": "code",
   "execution_count": 11,
   "id": "869dd305",
   "metadata": {},
   "outputs": [
    {
     "name": "stdout",
     "output_type": "stream",
     "text": [
      "Enter any number: 6\n",
      "6 is Not a prime number\n"
     ]
    }
   ],
   "source": [
    "#2 Python program to find whether a number is prime or composite.\n",
    "num = int (input(\"Enter any number: \"))\n",
    "if num > 1:\n",
    "    for i in range(2, num):\n",
    "        if (num % i) == 0:\n",
    "            print (num, \"is Not a prime number\")\n",
    "            break\n",
    "    else:\n",
    "        print (num, \"is a PRIME number\")\n",
    "elif num == 0 or 1:\n",
    "    print (num,\"is neither prime NOR composite number\")\n",
    "else:\n",
    "    print(num, \"is a COMPOSITE number NOT a prime number\")"
   ]
  },
  {
   "cell_type": "code",
   "execution_count": 12,
   "id": "e30c992b",
   "metadata": {},
   "outputs": [
    {
     "name": "stdout",
     "output_type": "stream",
     "text": [
      "Enter a letter:radar\n",
      "The letter is palindrome\n"
     ]
    }
   ],
   "source": [
    "#3 Python Program to check whether a given string is palindrome or not.\n",
    "\n",
    "string = input (\"Enter a letter:\")\n",
    "if (string==string[::-1]):\n",
    "    print(\"The letter is palindrome\")\n",
    "else:\n",
    "    print(\"The letter is not a palindrome\")\n"
   ]
  },
  {
   "cell_type": "code",
   "execution_count": 13,
   "id": "247ef760",
   "metadata": {},
   "outputs": [
    {
     "name": "stdout",
     "output_type": "stream",
     "text": [
      "Enter side a:4\n",
      "Enter side b: 5\n",
      "The length of the hypotenuse is 6.4031242374328485\n"
     ]
    }
   ],
   "source": [
    "#4 Python program to get the third side of right-angled triangle from two given sides.\n",
    "import math\n",
    "\n",
    "a = float (input(\"Enter side a:\"))\n",
    "b = float (input(\"Enter side b: \"))\n",
    "\n",
    "c = math.sqrt(a**2 + b**2)\n",
    "\n",
    "print(f\"The length of the hypotenuse is {c}\")\n"
   ]
  },
  {
   "cell_type": "code",
   "execution_count": 14,
   "id": "b6202376",
   "metadata": {},
   "outputs": [
    {
     "name": "stdout",
     "output_type": "stream",
     "text": [
      "Count of all characters in DataScience : \n",
      "{'D': 1, 'a': 2, 't': 1, 'S': 1, 'c': 2, 'i': 1, 'e': 2, 'n': 1}\n"
     ]
    }
   ],
   "source": [
    "#5 Python program to print the frequency of each of the characters present in a given string.\n",
    "the_words= \"DataScience\"\n",
    "\n",
    "char_freq = {}\n",
    " \n",
    "for i in the_words:\n",
    "    if i in char_freq:\n",
    "        char_freq[i] += 1\n",
    "    else:\n",
    "        char_freq[i] = 1\n",
    "        \n",
    "print(\"Count of all characters in DataScience : \\n\" + str (char_freq))"
   ]
  }
 ],
 "metadata": {
  "kernelspec": {
   "display_name": "Python 3 (ipykernel)",
   "language": "python",
   "name": "python3"
  },
  "language_info": {
   "codemirror_mode": {
    "name": "ipython",
    "version": 3
   },
   "file_extension": ".py",
   "mimetype": "text/x-python",
   "name": "python",
   "nbconvert_exporter": "python",
   "pygments_lexer": "ipython3",
   "version": "3.9.12"
  }
 },
 "nbformat": 4,
 "nbformat_minor": 5
}
